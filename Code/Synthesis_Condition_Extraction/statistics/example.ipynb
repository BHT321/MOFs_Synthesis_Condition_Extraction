{
 "cells": [
  {
   "cell_type": "code",
   "execution_count": 2,
   "metadata": {},
   "outputs": [
    {
     "name": "stdout",
     "output_type": "stream",
     "text": [
      "{'missing': 0, 'metal_name_TP': 121, 'metal_name_FP': 2, 'metal_name_TN': 0, 'metal_name_FN': 0, 'metal_name_precision': 0.983739837398374, 'metal_name_recall': 1.0, 'metal_name_F1': 0.9918032786885246, 'metal_name_acc': 0.983739837398374, 'organic_name_TP': 113, 'organic_name_FP': 7, 'organic_name_TN': 1, 'organic_name_FN': 2, 'organic_name_precision': 0.9416666666666667, 'organic_name_recall': 0.9826086956521739, 'organic_name_F1': 0.9617021276595745, 'organic_name_acc': 0.926829268292683, 'solvent_name_TP': 88, 'solvent_name_FP': 35, 'solvent_name_TN': 0, 'solvent_name_FN': 0, 'solvent_name_precision': 0.7154471544715447, 'solvent_name_recall': 1.0, 'solvent_name_F1': 0.8341232227488152, 'solvent_name_acc': 0.7154471544715447, 'modulator_name_TP': 34, 'modulator_name_FP': 6, 'modulator_name_TN': 79, 'modulator_name_FN': 4, 'modulator_name_precision': 0.85, 'modulator_name_recall': 0.8947368421052632, 'modulator_name_F1': 0.8717948717948718, 'modulator_name_acc': 0.9186991869918699, 'metal_amount_TP': 118, 'metal_amount_FP': 5, 'metal_amount_TN': 0, 'metal_amount_FN': 0, 'metal_amount_precision': 0.959349593495935, 'metal_amount_recall': 1.0, 'metal_amount_F1': 0.979253112033195, 'metal_amount_acc': 0.959349593495935, 'organic_amount_TP': 112, 'organic_amount_FP': 8, 'organic_amount_TN': 1, 'organic_amount_FN': 2, 'organic_amount_precision': 0.9333333333333333, 'organic_amount_recall': 0.9824561403508771, 'organic_amount_F1': 0.9572649572649572, 'organic_amount_acc': 0.9186991869918699, 'solvent_amount_TP': 87, 'solvent_amount_FP': 36, 'solvent_amount_TN': 0, 'solvent_amount_FN': 0, 'solvent_amount_precision': 0.7073170731707317, 'solvent_amount_recall': 1.0, 'solvent_amount_F1': 0.8285714285714285, 'solvent_amount_acc': 0.7073170731707317, 'modulator_amount_TP': 33, 'modulator_amount_FP': 7, 'modulator_amount_TN': 79, 'modulator_amount_FN': 4, 'modulator_amount_precision': 0.825, 'modulator_amount_recall': 0.8918918918918919, 'modulator_amount_F1': 0.8571428571428571, 'modulator_amount_acc': 0.9105691056910569, 'reaction_time_TP': 85, 'reaction_time_FP': 10, 'reaction_time_TN': 25, 'reaction_time_FN': 3, 'reaction_time_precision': 0.8947368421052632, 'reaction_time_recall': 0.9659090909090909, 'reaction_time_F1': 0.9289617486338798, 'reaction_time_acc': 0.8943089430894309, 'reaction_temp_TP': 74, 'reaction_temp_FP': 6, 'reaction_temp_TN': 39, 'reaction_temp_FN': 4, 'reaction_temp_precision': 0.925, 'reaction_temp_recall': 0.9487179487179487, 'reaction_temp_F1': 0.9367088607594937, 'reaction_temp_acc': 0.9186991869918699, 'avg_F1': 0.9147326465297597, 'avg_acc': 0.8853658536585366, 'avg_precision': 0.8735590500641848, 'avg_recall': 0.9666320609627246}\n"
     ]
    }
   ],
   "source": [
    "from result_statistic import get_result_of_one_file\n",
    "print(get_result_of_one_file(\"../example_output.json\"))"
   ]
  }
 ],
 "metadata": {
  "kernelspec": {
   "display_name": "python38",
   "language": "python",
   "name": "python3"
  },
  "language_info": {
   "codemirror_mode": {
    "name": "ipython",
    "version": 3
   },
   "file_extension": ".py",
   "mimetype": "text/x-python",
   "name": "python",
   "nbconvert_exporter": "python",
   "pygments_lexer": "ipython3",
   "version": "3.8.18"
  }
 },
 "nbformat": 4,
 "nbformat_minor": 2
}

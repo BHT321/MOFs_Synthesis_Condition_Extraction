{
 "cells": [
  {
   "cell_type": "markdown",
   "metadata": {},
   "source": [
    "The following is an example of extraction for **one paragraph**.   \n",
    "Import `extract_synthesis_parameters` from `llm.py` and call GPT model to extract synthesis condition from paragraph."
   ]
  },
  {
   "cell_type": "code",
   "execution_count": null,
   "metadata": {},
   "outputs": [],
   "source": [
    "from llm import extract_synthesis_parameters\n",
    "\n",
    "paragraph = \"2.1. Synthesis of [PbCl 2 (4,4′ -bipy)] (1) PbCl 2 (27.1 mg, 0.10 mmol), 4,4′ -bipyridine (4,4′ bipy) (15.7 mg, 0.10 mmol) and 0.80 ml of distilled water were sealed in an evacuated Pyrex tube (7 mm ID, 11 cm long). The reaction was heated to 130 C at 1C/min, soaked at 130 C for 10 h, and cooled to 30 C at 0.2 C/min. Colorless crystals formed in the tube.\"\n",
    "results = extract_synthesis_parameters(\n",
    "    paragraph=paragraph,\n",
    "    example_size=4, \n",
    "    model='gpt-3.5-turbo', \n",
    "    rag_method=\"BM25\", \n",
    "    temperature=0\n",
    "    )\n",
    "print(results)"
   ]
  },
  {
   "cell_type": "markdown",
   "metadata": {},
   "source": [
    "The following is an example of synthesis condition extraction for **multiple paragraphs**.   \n",
    "The `FILE_NAME` contains all paragraphs you want to extract. It should be a JSON file in such format:\n",
    "```JSON\n",
    "[\n",
    "    {\n",
    "        \"paragraph\": \"xxxx\",\n",
    "    },\n",
    "    {\n",
    "        \"paragraph\": \"xxxx\",\n",
    "    }\n",
    "]\n",
    "```\n",
    "Each entry should have key `paragraph`. The value of `paragraph` is the synthesis paragraph."
   ]
  },
  {
   "cell_type": "code",
   "execution_count": null,
   "metadata": {},
   "outputs": [],
   "source": [
    "from tqdm import tqdm\n",
    "from concurrent.futures import ThreadPoolExecutor\n",
    "from llm import extract_synthesis_parameters\n",
    "import json\n",
    "\n",
    "FILE_NAME = \"example_input.json\"\n",
    "\n",
    "def extract_one_paragraph(mof):\n",
    "    try:\n",
    "        result = extract_synthesis_parameters(\n",
    "            paragraph=mof[\"paragraph\"], \n",
    "            example_size=4, \n",
    "            model=\"gpt-4-0125-preview\"\n",
    "            )\n",
    "        mof[\"result\"] = result\n",
    "    except:\n",
    "        mof[\"result\"] = None\n",
    "    return mof\n",
    "\n",
    "with open(FILE_NAME) as f:\n",
    "    mofs = json.load(f)\n",
    "\n",
    "with ThreadPoolExecutor() as executor:\n",
    "    _ = list(tqdm(executor.map(extract_one_paragraph, mofs), total=len(mofs)))\n",
    "with open(\"example_output.json\", \"w\") as f:\n",
    "    f.write(json.dumps(mofs, indent=2, ensure_ascii=False))"
   ]
  }
 ],
 "metadata": {
  "kernelspec": {
   "display_name": "python38",
   "language": "python",
   "name": "python3"
  },
  "language_info": {
   "codemirror_mode": {
    "name": "ipython",
    "version": 3
   },
   "file_extension": ".py",
   "mimetype": "text/x-python",
   "name": "python",
   "nbconvert_exporter": "python",
   "pygments_lexer": "ipython3",
   "version": "3.8.18"
  }
 },
 "nbformat": 4,
 "nbformat_minor": 2
}
